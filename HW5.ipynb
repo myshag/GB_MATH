{
 "cells": [
  {
   "cell_type": "markdown",
   "id": "3e16bc69",
   "metadata": {},
   "source": [
    "__1.__ Найти производную функции:\n",
    "\n",
    "$$y=\\frac{1}{x}+\\frac{2}{x^2}-\\frac{5}{x^3}+\\sqrt x -\\sqrt[3]x+\\frac{3}{\\sqrt x}$$"
   ]
  },
  {
   "cell_type": "markdown",
   "id": "f3efba2c",
   "metadata": {},
   "source": [
    "$$y' = -\\frac{1}{2\\sqrt x} - \\frac{4}{\\sqrt x^3}+\\frac{15}{\\sqrt x^4}+\n",
    "\\frac{1}{2\\sqrt x}-\\frac{1}{3x^{3/2}}-0.5x^{3/2}$$"
   ]
  },
  {
   "cell_type": "markdown",
   "id": "4fff17a3",
   "metadata": {},
   "source": [
    "__2.__ Найти производную функции:\n",
    "\n",
    "### $$y=x \\cdot \\sqrt {1+x^2}$$"
   ]
  },
  {
   "cell_type": "markdown",
   "id": "18d5d817",
   "metadata": {},
   "source": [
    "$$y' = 1 \\cdot \\sqrt {1+x^2} + \\frac{x^2}{\\sqrt{1+x^2}} = \\frac{2x^2+1}{\\sqrt{1+x^2}}$$"
   ]
  },
  {
   "cell_type": "markdown",
   "id": "1313317d",
   "metadata": {},
   "source": [
    "\n",
    "__3.__ Найти производную функции:\n",
    "\n",
    "### $$y= \\frac{2x}{1-x^2}$$"
   ]
  },
  {
   "cell_type": "markdown",
   "id": "e125ac8f",
   "metadata": {},
   "source": [
    "$$y' = \\frac{2(1-x^2) + 4x^2}{{(1-x^2)}^2} = \\frac{2(x^2+1)}{{(1-x^2)}^2}$$"
   ]
  },
  {
   "cell_type": "markdown",
   "id": "6824f89a",
   "metadata": {},
   "source": [
    "__4*.__ Найти производную функции:\n",
    "\n",
    "### $$y=\\sqrt{x+ \\sqrt{x+\\sqrt x}}$$"
   ]
  },
  {
   "cell_type": "markdown",
   "id": "57f5040c",
   "metadata": {},
   "source": [
    "$$y' = \\frac{1+\\frac{1+\\frac{1}{2\\sqrt{x}}}{2\\sqrt{x+\\sqrt{x}}}}{2\\sqrt{x+ \\sqrt{x+\\sqrt x}}}$$"
   ]
  },
  {
   "cell_type": "markdown",
   "id": "dfac6cba",
   "metadata": {},
   "source": [
    "__5.__ Найти производную функции:\n",
    "\n",
    "### $$y= \\ln(x+\\sqrt{x^2+1})$$"
   ]
  },
  {
   "cell_type": "markdown",
   "id": "2e3abaaa",
   "metadata": {},
   "source": [
    "$$y' = \\frac{1}{x+\\sqrt{x^2+1}}(1+\\frac{x}{\\sqrt{x^2+1}}) =\n",
    "\\frac{1}{x+\\sqrt{x^2+1}}(\\frac{x+\\sqrt{x^2+1}}{\\sqrt{x^2+1}}) =\\frac{1}{\\sqrt{x^2+1}} $$\n"
   ]
  },
  {
   "cell_type": "markdown",
   "id": "355111cc",
   "metadata": {},
   "source": [
    "__6.__ Найти производную функции:\n",
    "\n",
    "### $$y=x \\cdot \\ln(x+\\sqrt{x^2+1})-\\sqrt{x^2+1}$$"
   ]
  },
  {
   "cell_type": "markdown",
   "id": "3c3d768c",
   "metadata": {},
   "source": [
    "$$y'=\\ln(x+\\sqrt{x^2+1})+\\frac{x}{\\sqrt{x^2+1}}-\\frac{2x}{2\\sqrt{x^2+1}}=\\ln(x+\\sqrt{x^2+1})$$"
   ]
  },
  {
   "cell_type": "markdown",
   "id": "7a28e543",
   "metadata": {},
   "source": [
    "__7*.__ Найти производную функции:\n",
    "\n",
    "### $$y=\\arcsin (\\sin x)$$"
   ]
  },
  {
   "cell_type": "markdown",
   "id": "2a907442",
   "metadata": {},
   "source": [
    "$$y=\\arcsin (\\sin x)=x$$\n",
    "$$y'=1$$"
   ]
  },
  {
   "cell_type": "markdown",
   "id": "2ba56c36",
   "metadata": {},
   "source": [
    "__9**.__ Написать на python алгоритм, по вычислению значений $\\sin(x)$ для $х \\in[0, 30^0]$\n",
    "\n",
    "Для проверки подойдут данные из таблицы Брадиса"
   ]
  },
  {
   "cell_type": "code",
   "execution_count": 8,
   "id": "e29a4728",
   "metadata": {},
   "outputs": [
    {
     "name": "stdout",
     "output_type": "stream",
     "text": [
      "sin 1 degrees equal 0.017453292519943295\n",
      "math.sin 1 degrees equal 0.01745240643728351\n",
      "sin 2 degrees equal 0.0349039265489484\n",
      "math.sin 2 degrees equal 0.03489949670250097\n",
      "sin 3 degrees equal 0.052346584294575706\n",
      "math.sin 3 degrees equal 0.052335956242943835\n",
      "sin 4 degrees equal 0.06977594796135787\n",
      "math.sin 4 degrees equal 0.0697564737441253\n",
      "sin 5 degrees equal 0.08718670136721929\n",
      "math.sin 5 degrees equal 0.08715574274765817\n",
      "sin 6 degrees equal 0.10457353155863511\n",
      "math.sin 6 degrees equal 0.10452846326765347\n",
      "sin 7 degrees equal 0.12193113042401893\n",
      "math.sin 7 degrees equal 0.12186934340514748\n",
      "sin 8 degrees equal 0.13925419630482352\n",
      "math.sin 8 degrees equal 0.13917310096006544\n",
      "sin 9 degrees equal 0.15653743560383426\n",
      "math.sin 9 degrees equal 0.15643446504023087\n",
      "sin 10 degrees equal 0.17377556439013073\n",
      "math.sin 10 degrees equal 0.17364817766693033\n",
      "sin 11 degrees equal 0.19096331000018674\n",
      "math.sin 11 degrees equal 0.1908089953765448\n",
      "sin 12 degrees equal 0.20809541263457468\n",
      "math.sin 12 degrees equal 0.20791169081775934\n",
      "sin 13 degrees equal 0.2251666269497345\n",
      "math.sin 13 degrees equal 0.224951054343865\n",
      "sin 14 degrees equal 0.2421717236442632\n",
      "math.sin 14 degrees equal 0.24192189559966773\n",
      "sin 15 degrees equal 0.25910549103917424\n",
      "math.sin 15 degrees equal 0.25881904510252074\n",
      "sin 16 degrees equal 0.27596273665157117\n",
      "math.sin 16 degrees equal 0.27563735581699916\n",
      "sin 17 degrees equal 0.292738288761173\n",
      "math.sin 17 degrees equal 0.29237170472273677\n",
      "sin 18 degrees equal 0.30942699796912243\n",
      "math.sin 18 degrees equal 0.3090169943749474\n",
      "sin 19 degrees equal 0.32602373874850066\n",
      "math.sin 19 degrees equal 0.3255681544571567\n",
      "sin 20 degrees equal 0.34252341098596395\n",
      "math.sin 20 degrees equal 0.3420201433256687\n",
      "sin 21 degrees equal 0.3589209415139098\n",
      "math.sin 21 degrees equal 0.35836794954530027\n",
      "sin 22 degrees equal 0.37521128563256895\n",
      "math.sin 22 degrees equal 0.374606593415912\n",
      "sin 23 degrees equal 0.3913894286214109\n",
      "math.sin 23 degrees equal 0.39073112848927377\n",
      "sin 24 degrees equal 0.4074503872392371\n",
      "math.sin 24 degrees equal 0.4067366430758002\n",
      "sin 25 degrees equal 0.4233892112123244\n",
      "math.sin 25 degrees equal 0.42261826174069944\n",
      "sin 26 degrees equal 0.43920098470996566\n",
      "math.sin 26 degrees equal 0.4383711467890774\n",
      "sin 27 degrees equal 0.4548808278067377\n",
      "math.sin 27 degrees equal 0.45399049973954675\n",
      "sin 28 degrees equal 0.4704238979308112\n",
      "math.sin 28 degrees equal 0.4694715627858908\n",
      "sin 29 degrees equal 0.4858253912975918\n",
      "math.sin 29 degrees equal 0.48480962024633706\n",
      "sin 30 degrees equal 0.5010805443279636\n",
      "math.sin 30 degrees equal 0.49999999999999994\n"
     ]
    }
   ],
   "source": [
    "import math\n",
    "\n",
    "\n",
    "\n",
    "SIN_0 = 0\n",
    "COS_0 = 1\n",
    "\n",
    "sin_1deg = SIN_0 + COS_0*(math.pi/180)\n",
    "\n",
    "\n",
    "values = list()\n",
    "values.append([SIN_0,COS_0])\n",
    "\n",
    "for i in range(1,31):\n",
    "    delta_radians = i*(math.pi/180)-(i-1)*(math.pi/180)\n",
    "    sin_next = values[i-1][0] + values[i-1][1]*delta_radians\n",
    "    values.append([sin_next,math.sqrt(1-sin_next**2)])\n",
    "    print(f\"sin {i} degrees equal {sin_next}\")\n",
    "    print(f\"math.sin {i} degrees equal {math.sin(i*(math.pi/180))}\")\n",
    "\n"
   ]
  }
 ],
 "metadata": {
  "kernelspec": {
   "display_name": "Python 3 (ipykernel)",
   "language": "python",
   "name": "python3"
  },
  "language_info": {
   "codemirror_mode": {
    "name": "ipython",
    "version": 3
   },
   "file_extension": ".py",
   "mimetype": "text/x-python",
   "name": "python",
   "nbconvert_exporter": "python",
   "pygments_lexer": "ipython3",
   "version": "3.9.7"
  }
 },
 "nbformat": 4,
 "nbformat_minor": 5
}
